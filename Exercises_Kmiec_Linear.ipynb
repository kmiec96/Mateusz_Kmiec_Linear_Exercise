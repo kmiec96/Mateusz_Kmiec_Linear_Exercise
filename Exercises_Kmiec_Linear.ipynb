{
 "cells": [
  {
   "cell_type": "markdown",
   "metadata": {},
   "source": [
    "# Exercises\n",
    "\n",
    "There are three exercises in this notebook:\n",
    "\n",
    "1. Use the cross-validation method to test the linear regression with different $\\alpha$ values, at least three.\n",
    "2. Implement based on the Ridge regression example, the Lasso regression.\n",
    "3. Extend the Fisher's classifier to work with two features. Use the class as the $y$."
   ]
  },
  {
   "cell_type": "code",
   "execution_count": 3,
   "metadata": {},
   "outputs": [
    {
     "name": "stdout",
     "output_type": "stream",
     "text": [
      "DONE\n"
     ]
    }
   ],
   "source": [
    "import pandas as pd\n",
    "import numpy as np\n",
    "import matplotlib.pyplot as plt\n",
    "from sklearn.datasets import load_iris\n",
    "from sklearn.linear_model import Lasso\n",
    "print(\"DONE\")"
   ]
  },
  {
   "cell_type": "markdown",
   "metadata": {},
   "source": [
    "## 1. Cross-validation linear regression\n",
    "\n",
    "You need to change the variable ``alpha`` to be a list of alphas. Next do a loop and finally compare the results."
   ]
  },
  {
   "cell_type": "code",
   "execution_count": 119,
   "metadata": {},
   "outputs": [
    {
     "data": {
      "image/png": "[encoded data removed]",
      "text/plain": [
       "<Figure size 432x288 with 1 Axes>"
      ]
     },
     "metadata": {
      "needs_background": "light"
     },
     "output_type": "display_data"
    },
    {
     "name": "stdout",
     "output_type": "stream",
     "text": [
      "I picked 1000 alphas from within (0,0.1).\n",
      "Alpha which leads to the lowest cost is 0.020821\n",
      "\n",
      "DONE\n"
     ]
    }
   ],
   "source": [
    "#I implemented LEAVE ONE OUT algorithm\n",
    "x = np.array([188, 181, 197, 168, 167, 187, 178, 194, 140, 176, 168, 192, 173, 142, 176]).reshape(-1, 1).reshape(15,1)\n",
    "y = np.array([141, 106, 149, 59, 79, 136, 65, 136, 52, 87, 115, 140, 82, 69, 121]).reshape(-1, 1).reshape(15,1)\n",
    "\n",
    "x = np.asmatrix(np.c_[np.ones((15,1)),x])\n",
    "\n",
    "I = np.identity(2)\n",
    "alpha_list = np.linspace(start = 0.0, stop = 0.1, num = 1000)# change here\n",
    "costlist=[]\n",
    "sorted_cost=[]\n",
    "\n",
    "# add 1-3 line of code here\n",
    "\n",
    "for alpha in alpha_list:\n",
    "    error=0\n",
    "    for k in range(y.shape[0]):\n",
    "        xk=x\n",
    "        yk=y\n",
    "        xk=np.delete(xk, k, axis=0)\n",
    "        yk=np.delete(yk, k, axis=0)\n",
    "        wk = np.linalg.inv(xk.T@xk + alpha * I)@xk.T@yk\n",
    "        wk=wk.ravel()\n",
    "        error+=((y-x@wk.T)[k]*(y-x@wk.T)[k])/(y.shape[0])#+alpha*wk*wk.T)/(y.shape[0]) #czy tu powinno być cost=RSS+alpha*w*w.T?\n",
    "    \n",
    "    costlist.append(error[0,0])\n",
    "\n",
    "min_index = costlist.index(min(costlist))   \n",
    "    \n",
    "fig = plt.figure()\n",
    "plt.plot(alpha_list, costlist, color='blue', linewidth = 1)\n",
    "plt.scatter(alpha_list[min_index],costlist[min_index], color='red')\n",
    "plt.title('CROSS-VALIDATION')\n",
    "plt.xlabel('alpha')\n",
    "plt.ylabel('error')\n",
    "plt.show()\n",
    "\n",
    "# add 1-3 lines to compare the results\n",
    "print(\"I picked 1000 alphas from within (0,0.1).\")\n",
    "print(\"Alpha which leads to the lowest cost is {0:.6f}\".format(alpha_list[min_index]))\n",
    "\n",
    "print(\"\\nDONE\")"
   ]
  },
  {
   "cell_type": "markdown",
   "metadata": {},
   "source": [
    "## 2. Implement based on the Ridge regression example, the Lasso regression.\n",
    "\n",
    "You only need to update the compare the results with the sklearn results. You should get\n",
    "[1.61776499, -180.8579086]."
   ]
  },
  {
   "cell_type": "code",
   "execution_count": 117,
   "metadata": {},
   "outputs": [
    {
     "name": "stdout",
     "output_type": "stream",
     "text": [
      "DONE\n"
     ]
    }
   ],
   "source": [
    "#Since there is no closed form solution for lasso regression\n",
    "#I implemented coordinate descent algorithm for lasso.\n",
    "\n",
    "def soft_threshold(rho,lamda,n_j):\n",
    "    if rho < - lamda/2:\n",
    "        return (rho + lamda/2)/(n_j*n_j)\n",
    "    elif rho >  lamda:\n",
    "        return (rho - lamda/2)/(n_j*n_j)\n",
    "    else: \n",
    "        return 0\n",
    "    \n",
    "\n",
    "def coordinate_descent_lasso_reg(norm, coef, x, y, lamda, max_iterations):\n",
    "   \n",
    "    m,n = x.shape\n",
    "    \n",
    "    #Loop until max number of iterations max_iterations=1000\n",
    "    for i in range(max_iterations): \n",
    "        \n",
    "        #Looping through each coordinate x.shape[1]\n",
    "        for j in range(n):\n",
    "\n",
    "            n_j=norm[j]\n",
    "            x_j = x[:,j].reshape(-1,1)\n",
    "            y_pred = x @ coef \n",
    "            rho = x_j.T @ (y - y_pred  + x_j*coef[j])\n",
    "        \n",
    "            if j == 0: \n",
    "                coef[j] =  rho/(n_j*n_j)\n",
    "            else:\n",
    "                coef[j] =  soft_threshold(rho, lamda, n_j)  \n",
    "\n",
    "            \n",
    "    return coef\n",
    "print(\"DONE\")"
   ]
  },
  {
   "cell_type": "code",
   "execution_count": 118,
   "metadata": {},
   "outputs": [
    {
     "name": "stdout",
     "output_type": "stream",
     "text": [
      "Lasso regression using sklearn:  [1.6177649901016677, -180.85790859980537]\n",
      "Lasso regression using numpy and coordinate descent:  [1.6178319943029593, -180.86919266246446]\n",
      "DONE\n"
     ]
    }
   ],
   "source": [
    "x = np.array([188, 181, 197, 168, 167, 187, 178, 194, 140, 176, 168, 192, 173, 142, 176]).reshape(-1, 1).reshape(15,1)\n",
    "y = np.array([141, 106, 149, 59, 79, 136, 65, 136, 52, 87, 115, 140, 82, 69, 121]).reshape(-1, 1).reshape(15,1)\n",
    "\n",
    "alpha = 0.1\n",
    "\n",
    "#Lasso regression using sklearn\n",
    "lasso_regression = Lasso(alpha=alpha)\n",
    "lasso_regression.fit(X=x, y=y)\n",
    "\n",
    "wlasso=[lasso_regression.coef_[0], lasso_regression.intercept_[0]]\n",
    "print(\"Lasso regression using sklearn: \",wlasso)\n",
    "\n",
    "\n",
    "x = np.asmatrix(np.c_[np.ones((x.shape[0],1)),x])\n",
    "n = x.shape[1]\n",
    "\n",
    "norm = (np.linalg.norm(x,axis = 0))\n",
    "\n",
    "initial_coef = np.zeros((n,1))\n",
    "\n",
    "w1,w2 = coordinate_descent_lasso_reg(norm, initial_coef, x, y, lamda = alpha, max_iterations=1000)\n",
    "w=[w2[0],w1[0]]\n",
    "print(\"Lasso regression using numpy and coordinate descent: \",w)\n",
    "print(\"DONE\")"
   ]
  },
  {
   "cell_type": "markdown",
   "metadata": {},
   "source": [
    "## 3. Extend the Fisher's classifier\n",
    "\n",
    "Please extend the targets of ``iris_data`` variable and use it as $y$."
   ]
  },
  {
   "cell_type": "markdown",
   "metadata": {},
   "source": [
    "I wasn t sure how to solve this problem. First I extended feature space to 4 features. Next I calculated \n",
    "Covariance matrixes of distances from class centers. I added them which enabled me to\n",
    "find within class scatter matrix sw. Wrom differences between means of each class and overall mean\n",
    "I was able to calculate between class scatter matrix. Finally, I defined cuts as average of two means\n",
    "(pair of two classes) and proceded with classification which yield fantastic result of 89% accuracy.\n",
    "I based my code on information which I found on this blog:\n",
    "\n",
    "https://www.apsl.net/blog/2017/07/18/using-linear-discriminant-analysis-lda-data-explore-step-step"
   ]
  },
  {
   "cell_type": "code",
   "execution_count": 248,
   "metadata": {},
   "outputs": [
    {
     "name": "stdout",
     "output_type": "stream",
     "text": [
      "original class labels :\n",
      " [0 0 0 0 0 0 0 0 0 0 0 0 0 0 0 0 0 0 0 0 0 0 0 0 0 0 0 0 0 0 0 0 0 0 0 0 0\n",
      " 0 0 0 0 0 0 0 0 0 0 0 0 0 1 1 1 1 1 1 1 1 1 1 1 1 1 1 1 1 1 1 1 1 1 1 1 1\n",
      " 1 1 1 1 1 1 1 1 1 1 1 1 1 1 1 1 1 1 1 1 1 1 1 1 1 1 2 2 2 2 2 2 2 2 2 2 2\n",
      " 2 2 2 2 2 2 2 2 2 2 2 2 2 2 2 2 2 2 2 2 2 2 2 2 2 2 2 2 2 2 2 2 2 2 2 2 2\n",
      " 2 2] \n",
      "\n",
      "labels assigned to y_pred by Fisher classifier:\n",
      " [0. 0. 0. 0. 0. 0. 0. 0. 0. 0. 0. 0. 0. 0. 0. 0. 0. 0. 0. 0. 0. 0. 0. 0.\n",
      " 0. 0. 0. 0. 0. 0. 0. 0. 0. 0. 0. 0. 0. 0. 0. 0. 0. 0. 0. 0. 0. 0. 0. 0.\n",
      " 0. 0. 1. 1. 1. 1. 1. 1. 1. 1. 1. 1. 1. 1. 1. 2. 1. 1. 1. 1. 1. 1. 1. 1.\n",
      " 2. 2. 1. 1. 1. 1. 1. 1. 1. 1. 1. 2. 1. 1. 1. 1. 1. 1. 1. 1. 1. 1. 1. 1.\n",
      " 1. 1. 0. 1. 2. 2. 2. 2. 2. 2. 1. 2. 2. 2. 2. 2. 2. 1. 1. 2. 2. 2. 2. 2.\n",
      " 2. 1. 2. 1. 2. 2. 1. 1. 2. 2. 2. 2. 2. 2. 2. 2. 2. 2. 1. 2. 2. 1. 2. 2.\n",
      " 2. 1. 1. 2. 2. 2.] \n",
      "\n",
      "Percentage of data correctly classified: 89.3333%\n"
     ]
    },
    {
     "data": {
      "image/png": "[encoded data removed]",
      "text/plain": [
       "<Figure size 432x288 with 1 Axes>"
      ]
     },
     "metadata": {
      "needs_background": "light"
     },
     "output_type": "display_data"
    },
    {
     "name": "stdout",
     "output_type": "stream",
     "text": [
      "DONE\n"
     ]
    }
   ],
   "source": [
    "iris_data = load_iris()\n",
    "iris_df = pd.DataFrame(iris_data.data,columns=iris_data.feature_names)\n",
    "\n",
    "X=iris_df.values #Updated line\n",
    "clas = iris_data.target #targets\n",
    "mean=[]\n",
    "\n",
    "#Calculate mean values of features for each class and overall_mean\n",
    "for i in range(0,3):\n",
    "    mean.append(np.mean(X[np.where(clas==i)],axis=0))\n",
    "overall_mean = np.mean(X, axis=0)\n",
    "\n",
    "#Calculate within class scatter matrix SW\n",
    "for j in range(0,3):\n",
    "    #calculation distance to class center\n",
    "    distance_to_class_center=(X[np.where(clas==j)] - mean[j]).T\n",
    "    #calculating covariance measure of scatter\n",
    "    sigma=np.cov(distance_to_class_center)\n",
    "    sw+=sigma #sw = sigma1 + sigma2 + sigma3 \n",
    "    \n",
    "#Calculate between class scatter matrix SB\n",
    "for j in range(0,3):\n",
    "    n = X[np.where(clas==j)].shape[0] #size of the respective class\n",
    "    scatter=np.outer(mean[j] - overall_mean, mean[j] - overall_mean)\n",
    "    sb+= n*scatter #sb = n0*sb0 + n1*sb1 + n2*sb2\n",
    "\n",
    "eig = np.linalg.eig(np.linalg.inv(sw)@sb)\n",
    "\n",
    "w1 = eig[1][0] #eigenvector for maximal eigenvalue\n",
    "\n",
    "cut1 = 1/2*w1@(mean[0] + mean[1])\n",
    "cut2 = 1/2*w1@(mean[1] + mean[2])\n",
    "\n",
    "y_pred = X@w1\n",
    "y=y_pred*0\n",
    "\n",
    "\n",
    "for counter, y_pred_value in enumerate(y_pred):\n",
    "    if y_pred_value < cut1:\n",
    "        \n",
    "         y[counter] = 0\n",
    "            \n",
    "    elif y_pred_value > cut2:\n",
    "        \n",
    "         y[counter] = 2\n",
    "        \n",
    "    else:\n",
    "         y[counter] = 1\n",
    "\n",
    "\n",
    "print(\"original class labels :\\n\", iris_data.target,\"\\n\")\n",
    "print(\"labels assigned to y_pred by Fisher classifier:\\n\",y,\"\\n\")\n",
    "\n",
    "print('Percentage of data correctly classified: {:.4%}'.format(np.mean(y == clas)))    \n",
    "\n",
    "label_dict = {0: 'Setosa 0', 1: 'Versicolor 1', 2:'Virginica 2'}\n",
    "ax = plt.subplot(111)\n",
    "for label,marker,color in zip(\n",
    "    range(0,3),('^', 's', 'o'),('blue', 'red', 'green')):\n",
    "\n",
    "    plt.scatter(x=y_pred[np.where(clas==label)],\n",
    "        y=list(np.zeros(y_pred[np.where(clas==label)].shape[0])),\n",
    "        marker=marker,\n",
    "        color=color,\n",
    "        alpha=0.5,\n",
    "        label=label_dict[label]\n",
    "        )\n",
    "\n",
    "plt.xlabel('y_pred')\n",
    "\n",
    "\n",
    "plt.axvline(cut1, linestyle='--', color='k', label='cut1')\n",
    "plt.axvline(cut2, linestyle='--', color='g', label='cut2')\n",
    "\n",
    "leg = plt.legend(loc='upper right', fancybox=True)\n",
    "leg.get_frame().set_alpha(0.5)\n",
    "\n",
    "plt.title('Projection of 4-dim iris_data space onto 1-dim\\\n",
    "space defined by the eigenvector with max eigenvalue\\n')\n",
    "\n",
    "plt.tick_params(axis='both', which='both',\\\n",
    "                bottom='on', top='off', labelbottom='on', right='off', left='off', labelleft='off')\n",
    "\n",
    "\n",
    "# remove axis spines\n",
    "ax.spines[\"top\"].set_visible(False) \n",
    "ax.spines[\"right\"].set_visible(False)\n",
    "ax.spines[\"bottom\"].set_visible(False)\n",
    "ax.spines[\"left\"].set_visible(False)    \n",
    "\n",
    "plt.grid()\n",
    "plt.tight_layout\n",
    "plt.show()\n",
    "\n",
    "\n",
    "print(\"DONE\")"
   ]
  }
 ],
 "metadata": {
  "kernelspec": {
   "display_name": "Python 3",
   "language": "python",
   "name": "python3"
  },
  "language_info": {
   "codemirror_mode": {
    "name": "ipython",
    "version": 3
   },
   "file_extension": ".py",
   "mimetype": "text/x-python",
   "name": "python",
   "nbconvert_exporter": "python",
   "pygments_lexer": "ipython3",
   "version": "3.7.3"
  }
 },
 "nbformat": 4,
 "nbformat_minor": 4
}
